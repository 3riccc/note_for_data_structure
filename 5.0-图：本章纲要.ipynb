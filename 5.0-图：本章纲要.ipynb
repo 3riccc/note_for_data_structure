{
 "cells": [
  {
   "cell_type": "markdown",
   "metadata": {},
   "source": [
    "## 算法题\n",
    "- 深度优先、广度优先的程序设计"
   ]
  },
  {
   "cell_type": "markdown",
   "metadata": {},
   "source": [
    "## 掌握（不要求算法，但要求概念清楚，可以手工模拟）\n",
    "- 图的基本概念和性质\n",
    "    - 度\n",
    "    - 路径长度\n",
    "    - 回路\n",
    "    - 路径\n",
    "- 图的存储结构\n",
    "    - 邻接矩阵\n",
    "    - 邻接表\n",
    "    - 邻接多重表\n",
    "    - 十字链表\n",
    "- 存储结构之间的转化\n",
    "- 基于存储结构遍历\n",
    "- 各种应用\n",
    "    - 拓扑排序\n",
    "    - 最小生成树\n",
    "    - 最短路径\n",
    "    - 关键路径"
   ]
  },
  {
   "cell_type": "markdown",
   "metadata": {},
   "source": []
  }
 ],
 "metadata": {
  "kernelspec": {
   "display_name": "C",
   "language": "c",
   "name": "c"
  },
  "language_info": {
   "file_extension": ".c",
   "mimetype": "text/plain",
   "name": "c"
  }
 },
 "nbformat": 4,
 "nbformat_minor": 2
}
