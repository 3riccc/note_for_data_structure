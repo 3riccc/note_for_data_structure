{
 "cells": [
  {
   "cell_type": "markdown",
   "metadata": {},
   "source": [
    "# 重点\n",
    "\n",
    "- 堆排序\n",
    "    - 建堆\n",
    "    - 插入\n",
    "    - 调整\n",
    "\n",
    "\n",
    "- 快速排序\n",
    "    - 划分\n",
    "    - 过程特征\n",
    "\n",
    "\n",
    "- 归并排序\n",
    "    - 归并路数\n",
    "    - 归并过程\n"
   ]
  },
  {
   "cell_type": "markdown",
   "metadata": {},
   "source": [
    "# 要求掌握\n",
    "\n",
    "- 排序算法思想\n",
    "\n",
    "\n",
    "- 排序过程\n",
    "    - 可以手动模拟\n",
    "    \n",
    "\n",
    "- 特征\n",
    "    - 初态影响\n",
    "    - 时空复杂度\n",
    "    - 稳定性\n",
    "    - 适用性\n",
    "\n",
    "\n",
    "- 常用排序算法的关键代码\n",
    "    - 要求熟练手写"
   ]
  },
  {
   "cell_type": "markdown",
   "metadata": {},
   "source": [
    "# 出题方式\n",
    "\n",
    "- 选择题居多\n",
    "\n",
    "\n",
    "\n",
    "- 不同算法的对比考的多\n",
    "\n",
    "\n",
    "- 看到一个序列，就有能力选择对应的最优算法对其排序"
   ]
  },
  {
   "cell_type": "code",
   "execution_count": null,
   "metadata": {
    "collapsed": true
   },
   "outputs": [],
   "source": []
  }
 ],
 "metadata": {
  "kernelspec": {
   "display_name": "C",
   "language": "c",
   "name": "c"
  },
  "language_info": {
   "file_extension": ".c",
   "mimetype": "text/plain",
   "name": "c"
  }
 },
 "nbformat": 4,
 "nbformat_minor": 2
}
