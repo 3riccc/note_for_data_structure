{
 "cells": [
  {
   "cell_type": "markdown",
   "metadata": {},
   "source": [
    "# ----结构体"
   ]
  },
  {
   "cell_type": "markdown",
   "metadata": {},
   "source": [
    "### 声明与定义——方式1"
   ]
  },
  {
   "cell_type": "code",
   "execution_count": null,
   "metadata": {
    "collapsed": true
   },
   "outputs": [],
   "source": [
    "// 声明\n",
    "struct Book{\n",
    "    int a[10];\n",
    "    char b;\n",
    "};\n",
    "\n",
    "// 定义变量\n",
    "struct Book book0;\n",
    "\n",
    "//访问\n",
    "book0.b;"
   ]
  },
  {
   "cell_type": "markdown",
   "metadata": {},
   "source": [
    "### 声明与定义——方式2（更常见）"
   ]
  },
  {
   "cell_type": "code",
   "execution_count": null,
   "metadata": {
    "collapsed": true
   },
   "outputs": [],
   "source": [
    "// 声明并定义\n",
    "struct Book{\n",
    "    int a[10];\n",
    "    char b;\n",
    "} book;\n",
    "\n",
    "// 访问\n",
    "book.b;"
   ]
  },
  {
   "cell_type": "markdown",
   "metadata": {},
   "source": [
    "# ----结构体指针"
   ]
  },
  {
   "cell_type": "markdown",
   "metadata": {},
   "source": [
    "## 声明与定义"
   ]
  },
  {
   "cell_type": "code",
   "execution_count": null,
   "metadata": {
    "collapsed": true
   },
   "outputs": [],
   "source": [
    "// 声明与定义\n",
    "struct Book{\n",
    "    int a[10];\n",
    "    char b;\n",
    "} *bk;\n",
    "\n",
    "//赋值\n",
    "bk = &book;\n",
    "\n",
    "// 访问成员\n",
    "bk->b; //方法1，常用\n",
    "(*bk).b; //方法2，不常用"
   ]
  },
  {
   "cell_type": "markdown",
   "metadata": {},
   "source": [
    "# ----分配内存"
   ]
  },
  {
   "cell_type": "code",
   "execution_count": null,
   "metadata": {
    "collapsed": true
   },
   "outputs": [],
   "source": [
    "// 在C语言中\n",
    "x = (ElemType*)malloc(sizeof(ElemType)*InitSize);\n",
    "// 在C++中\n",
    "x = new ElemType[InitSize]"
   ]
  }
 ],
 "metadata": {
  "kernelspec": {
   "display_name": "C",
   "language": "c",
   "name": "c"
  },
  "language_info": {
   "file_extension": ".c",
   "mimetype": "text/plain",
   "name": "c"
  }
 },
 "nbformat": 4,
 "nbformat_minor": 2
}
