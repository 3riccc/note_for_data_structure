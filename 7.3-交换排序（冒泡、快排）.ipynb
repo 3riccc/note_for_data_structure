{
 "cells": [
  {
   "cell_type": "markdown",
   "metadata": {},
   "source": [
    "# 交换排序（冒泡/快排）"
   ]
  },
  {
   "cell_type": "markdown",
   "metadata": {},
   "source": [
    "包括：\n",
    "\n",
    "- 冒泡\n",
    "- 快排"
   ]
  },
  {
   "cell_type": "markdown",
   "metadata": {},
   "source": [
    "<hr/>\n",
    "# 冒泡排序"
   ]
  },
  {
   "cell_type": "markdown",
   "metadata": {},
   "source": [
    "## 方法\n",
    "- 从前往后，比较两个元素的值\n",
    "- 如果逆序，就交换\n",
    "- 一趟下来，会有一个最大的元素跑到最右边（或者最小的跑到最左边，取决于走路方向）\n",
    "- 下一趟冒泡时，已经确定的最小（或者最大）元素不再参与比较\n"
   ]
  },
  {
   "cell_type": "markdown",
   "metadata": {},
   "source": [
    "## 分析\n",
    "- n-1趟冒泡，就能排好\n",
    "- 空间效率：常数个辅助单元，O(1)\n",
    "- 时间复杂度：\n",
    "    - 最坏O(n方)\n",
    "    - 平均O(n方)\n",
    "- 稳定性：稳定"
   ]
  },
  {
   "cell_type": "markdown",
   "metadata": {
    "collapsed": true
   },
   "source": [
    "<hr/>\n",
    "# 快速排序\n",
    "- 是对冒泡排序的改进\n",
    "- 参考视频https://www.bilibili.com/video/av10076626?from=search&seid=7772424960338240453"
   ]
  },
  {
   "cell_type": "markdown",
   "metadata": {},
   "source": [
    "## 方法\n",
    "\n",
    "- 选取第一个元素作为基准\n",
    "- 剩余的元素，小于他的排在左边，大于它的排在右边\n",
    "- 递归的对做有两边，两个子表重复上述过程\n",
    "- 直到每个部分都只有一个元素为止"
   ]
  },
  {
   "cell_type": "markdown",
   "metadata": {},
   "source": [
    "## 分析\n",
    "- 空间效率：递归过程，需要借助一个递归栈\n",
    "    - 最好情况，空间复杂度O(log2(n+1))\n",
    "    - 最坏情况，空间复杂度O(n)\n",
    "    - 平均情况，空间复杂度O(log2(n))\n",
    "\n",
    "\n",
    "- 时间效率：\n",
    "    - 最坏情况，O(n方)\n",
    "    - 最好情况,O(nlog2(n))\n",
    "    - 他是所有内部排序算法中，性能最优算法\n",
    "\n",
    "\n",
    "- 稳定性：不稳定\n",
    "\n",
    "\n",
    "- 宜采用顺序存储\n",
    "\n",
    "\n",
    "- 递归次数和初始排列有关\n",
    "    - 如果原来是逆序的\n",
    "    - 就要递归n-1次\n",
    "    - 如果原来是随机的（递归之后划分比较平衡）\n",
    "    - 只需要递归log2n次"
   ]
  },
  {
   "cell_type": "code",
   "execution_count": null,
   "metadata": {
    "collapsed": true
   },
   "outputs": [],
   "source": []
  }
 ],
 "metadata": {
  "kernelspec": {
   "display_name": "C",
   "language": "c",
   "name": "c"
  },
  "language_info": {
   "file_extension": ".c",
   "mimetype": "text/plain",
   "name": "c"
  }
 },
 "nbformat": 4,
 "nbformat_minor": 2
}
