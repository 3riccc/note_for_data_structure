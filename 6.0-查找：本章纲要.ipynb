{
 "cells": [
  {
   "cell_type": "markdown",
   "metadata": {},
   "source": [
    "## 重点\n",
    "- 散列查找\n",
    "    - 散列表构造\n",
    "    - 冲突处理方法\n",
    "    - 平均查找长度\n",
    "    - 特征\n",
    "    - 性能分析\n",
    "- 折半查找\n",
    "    - 过程\n",
    "    - 构造判定树\n",
    "    - 平均查找长度\n"
   ]
  },
  {
   "cell_type": "markdown",
   "metadata": {},
   "source": [
    "## 难点\n",
    "- B树\n",
    "    - 掌握插入、删除、查找的操作方法\n",
    "    - 不要求写代码\n",
    "- B+树\n",
    "    - 要求较少\n",
    "    - 了解概念和性质\n"
   ]
  },
  {
   "cell_type": "markdown",
   "metadata": {},
   "source": [
    "## 新增点\n",
    "- 字符串模式匹配\n",
    "     - 重点掌握next数组构建方法"
   ]
  },
  {
   "cell_type": "code",
   "execution_count": null,
   "metadata": {
    "collapsed": true
   },
   "outputs": [],
   "source": []
  }
 ],
 "metadata": {
  "kernelspec": {
   "display_name": "C",
   "language": "c",
   "name": "c"
  },
  "language_info": {
   "file_extension": ".c",
   "mimetype": "text/plain",
   "name": "c"
  }
 },
 "nbformat": 4,
 "nbformat_minor": 2
}
