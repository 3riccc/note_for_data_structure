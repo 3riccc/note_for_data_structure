{
 "cells": [
  {
   "cell_type": "markdown",
   "metadata": {},
   "source": [
    "# 最小生成树"
   ]
  },
  {
   "cell_type": "markdown",
   "metadata": {},
   "source": [
    "- 连通图的生成树是极小连通子图\n",
    "- 砍掉一条边就不连通\n",
    "- 增加一条边就形成回路"
   ]
  },
  {
   "cell_type": "markdown",
   "metadata": {},
   "source": [
    "## 什么是生成树\n",
    "- 图有n个节点，e条连边\n",
    "- 砍的还剩下n-1个连边，就剩下一个生成树"
   ]
  },
  {
   "cell_type": "markdown",
   "metadata": {},
   "source": [
    "### 什么是最小生成树\n",
    "- 图有很多个生成树\n",
    "- 连边权重之和最小的一个就是最小生成树"
   ]
  },
  {
   "cell_type": "markdown",
   "metadata": {},
   "source": [
    "### 最小生成树性质\n",
    "- 当各边权值不相等时，最小生成树是唯一的\n",
    "- 否则，最小生成树不唯一\n",
    "- 如果最小生成树不唯一，不同最小生成树的权值总和相等\n",
    "- 边数=节点数-1"
   ]
  },
  {
   "cell_type": "markdown",
   "metadata": {},
   "source": [
    "## prim算法"
   ]
  },
  {
   "cell_type": "markdown",
   "metadata": {
    "collapsed": true
   },
   "source": [
    "- 时间复杂度O|V方|\n",
    "- "
   ]
  },
  {
   "cell_type": "markdown",
   "metadata": {},
   "source": [
    "## Kruskal算法"
   ]
  },
  {
   "cell_type": "markdown",
   "metadata": {},
   "source": []
  }
 ],
 "metadata": {
  "kernelspec": {
   "display_name": "C",
   "language": "c",
   "name": "c"
  },
  "language_info": {
   "file_extension": ".c",
   "mimetype": "text/plain",
   "name": "c"
  }
 },
 "nbformat": 4,
 "nbformat_minor": 2
}
